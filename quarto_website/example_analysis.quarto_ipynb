{
  "cells": [
    {
      "cell_type": "markdown",
      "metadata": {},
      "source": [
        "---\n",
        "title: \"Example Analysis\"\n",
        "format: html\n",
        "---\n",
        "\n",
        "\n",
        "\n",
        "\n",
        "# Setup\n",
        "Here, I will outline my goals for this analysis, load the data, preprocess it, share the data dictionary, etc.\n",
        "\n",
        "## Guiding Question\n",
        "Are there any characteristics that can help us predict whether a given person prefers mountains or beaches? (i.e. could we predict the answer to the question 'are you a mountain or a beach person')\n",
        "\n",
        "## Intended Audience\n",
        "The intended audience is anyone who feels strongly about mountains or beaches.\n",
        "\n",
        "## Link to Data\n",
        "https://www.kaggle.com/datasets/jahnavipaliwal/mountains-vs-beaches-preference\n"
      ],
      "id": "d0eac4fb"
    },
    {
      "cell_type": "code",
      "metadata": {},
      "source": [
        "# import kagglehub\n",
        "\n",
        "# # Download latest version\n",
        "# path = kagglehub.dataset_download(\"jahnavipaliwal/mountains-vs-beaches-preference\")\n",
        "\n",
        "# print(\"Path to dataset files:\", path)"
      ],
      "id": "423a0313",
      "execution_count": null,
      "outputs": []
    },
    {
      "cell_type": "markdown",
      "metadata": {},
      "source": [
        "I have moved the file to the data folder\n",
        "\n",
        "## Data Dictionary\n",
        "\n",
        "\n",
        "\n",
        "# Analysis\n",
        "The actual analysis starts here. I want to use logistic regression to predict the label of 1-mountains or 0-beaches. To do this, I must respect the assumptions made for logistic regression, which I will tackle in the Data wrangling/Preprocessing section.\n",
        "\n",
        "## Data wrangling/Preprocessing\n",
        "Here are the assumptions:\n",
        "\n",
        "* Binary Outcome Variable: Logistic regression is used for binary classification, so your dependent variable should be binary (e.g., 0 or 1, True or False).\n",
        "\n",
        "* Independence of Observations: The observations should be independent of each other. No observation should influence another.\n",
        "\n",
        "* No Perfect Multicollinearity: The predictor variables should not be perfectly correlated with each other. High multicollinearity can make it difficult to determine the individual effect of each predictor.\n",
        "\n",
        "* Large Sample Size: Logistic regression requires a sufficiently large sample size to produce reliable results. As a rule of thumb, you should have at least 10-20 cases per predictor variable.\n",
        "\n",
        "* No Significant Outliers: Outliers can unduly influence the model. It’s important to check for and potentially address outliers in your data.\n",
        "\n",
        "* Observations Need to be Properly Distributed Across the Levels of the Dependent Variable: There should be a reasonable number of cases in both categories of the dependent variable. Extreme imbalances can lead to a biased model.\n",
        "\n",
        "FIND A SOURCE FOR THIS: https://www.statisticssolutions.com/free-resources/directory-of-statistical-analyses/assumptions-of-logistic-regression/\n",
        "\n",
        "\n",
        "\n",
        "\n",
        "# Conclusion\n",
        "\n",
        "## Summary\n",
        "\n",
        "## Packages Used"
      ],
      "id": "2565657f"
    }
  ],
  "metadata": {
    "kernelspec": {
      "name": "python3",
      "language": "python",
      "display_name": "Python 3 (ipykernel)",
      "path": "C:\\Users\\jonat\\AppData\\Roaming\\Python\\share\\jupyter\\kernels\\python3"
    }
  },
  "nbformat": 4,
  "nbformat_minor": 5
}